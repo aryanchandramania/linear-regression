{
 "cells": [
  {
   "cell_type": "code",
   "execution_count": 19,
   "metadata": {},
   "outputs": [],
   "source": [
    "import numpy as np\n",
    "from sklearn.linear_model import LinearRegression\n",
    "import pickle\n",
    "import math"
   ]
  },
  {
   "cell_type": "code",
   "execution_count": 20,
   "metadata": {},
   "outputs": [],
   "source": [
    "trainfile = open('capacitor_dataset.pickle', 'rb') # load the train dataset\n",
    "train_data = pickle.load(trainfile)\n",
    "trainfile.close()"
   ]
  },
  {
   "cell_type": "code",
   "execution_count": 25,
   "metadata": {},
   "outputs": [],
   "source": [
    "# reshaping because lr.fit() requires a 2D array\n",
    "logQ = np.log(train_data[:, 1])\n",
    "t = (train_data[:, 0]).reshape(-1,1)\n",
    "lr = LinearRegression().fit(t, logQ)  # fitting\n",
    "\n",
    "# log(Q) = log(5C) - t/(RC)\n",
    "\n",
    "# m = -1/RC, c = log(5C)\n",
    "C = math.exp(lr.intercept_ - math.log(5))\n",
    "R = - 1 / (C*lr.coef_)"
   ]
  },
  {
   "cell_type": "code",
   "execution_count": 27,
   "metadata": {},
   "outputs": [
    {
     "name": "stdout",
     "output_type": "stream",
     "text": [
      "[100000.00000001] 4.999999999999631e-05\n"
     ]
    }
   ],
   "source": [
    "print(R, C)"
   ]
  },
  {
   "attachments": {},
   "cell_type": "markdown",
   "metadata": {},
   "source": [
    "# Explanation\n",
    "Since the equation is not in linear or even polynomial form, we cannot directly apply regression to it. However, what we can do is take the natural logarithm on both sides of the equation, which will give us the equation \n",
    "\n",
    "$log(Q)$ = $log(V_0C)$ - $t/RC$\n",
    "\n",
    "It is given that $V_0=5$, so now we are left with 2 unknowns, other than the variables $log(Q)$ and $t$, which can be used to estimate the unknowns by now performing linear regression with $log(Q)$ being the dependent variable and $t$ being the independent one. After that, it is mostly straightforward. We can see that\n",
    "\n",
    "$log(C) = intercept - log(5)$ and \n",
    "$-1/RC = coefficient$\n",
    "\n",
    "Thus substituting, we can solve for R and C.\n",
    "We have found that \n",
    "$R = 1e5$ and $C = 5e-5$"
   ]
  }
 ],
 "metadata": {
  "kernelspec": {
   "display_name": "Python 3",
   "language": "python",
   "name": "python3"
  },
  "language_info": {
   "codemirror_mode": {
    "name": "ipython",
    "version": 3
   },
   "file_extension": ".py",
   "mimetype": "text/x-python",
   "name": "python",
   "nbconvert_exporter": "python",
   "pygments_lexer": "ipython3",
   "version": "3.8.10"
  },
  "orig_nbformat": 4,
  "vscode": {
   "interpreter": {
    "hash": "916dbcbb3f70747c44a77c7bcd40155683ae19c65e1c03b4aa3499c5328201f1"
   }
  }
 },
 "nbformat": 4,
 "nbformat_minor": 2
}
